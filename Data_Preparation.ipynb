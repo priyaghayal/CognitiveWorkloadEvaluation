{
  "nbformat": 4,
  "nbformat_minor": 0,
  "metadata": {
    "colab": {
      "provenance": []
    },
    "kernelspec": {
      "display_name": "Python 3",
      "name": "python3"
    },
    "language_info": {
      "name": "python"
    }
  },
  "cells": [
    {
      "cell_type": "markdown",
      "metadata": {
        "id": "e0bEPIFDeNOz"
      },
      "source": [
        "Task Performance Measures for Cognitive Workload Evaluation using EEG signals\n",
        "\n",
        "**BE Project Group id 6**\n",
        "\n",
        "Swarali Belsare\n",
        "\n",
        "Maitreyi Kale\n",
        "\n",
        "Priya Ghayal\n",
        "\n",
        "Aishwarya Gogate"
      ]
    },
    {
      "cell_type": "code",
      "metadata": {
        "colab": {
          "base_uri": "https://localhost:8080/"
        },
        "id": "UG2X2vIsZqzC",
        "outputId": "78373636-8a6a-4528-8433-625491d7b98e"
      },
      "source": [
        "from google.colab import drive\n",
        "drive.mount('/content/drive' , force_remount = True)\n",
        "from numpy import load"
      ],
      "execution_count": null,
      "outputs": [
        {
          "output_type": "stream",
          "text": [
            "Mounted at /content/drive\n"
          ],
          "name": "stdout"
        }
      ]
    },
    {
      "cell_type": "markdown",
      "metadata": {
        "id": "PQa3AP-6eIko"
      },
      "source": [
        "##### Import Libraries"
      ]
    },
    {
      "cell_type": "code",
      "metadata": {
        "id": "YBNAgmzBZlQH"
      },
      "source": [
        "import numpy as np\n",
        "import pandas as pd\n",
        "import matplotlib.pyplot as plt\n",
        "import seaborn as sns\n",
        "\n",
        "from sklearn.preprocessing import StandardScaler\n",
        "\n",
        "%matplotlib inline"
      ],
      "execution_count": null,
      "outputs": []
    },
    {
      "cell_type": "markdown",
      "metadata": {
        "id": "Wdt3Hl2LEPUb"
      },
      "source": [
        "##### Functions for processing data\n"
      ]
    },
    {
      "cell_type": "markdown",
      "metadata": {
        "id": "HOP45aCyFOVJ"
      },
      "source": [
        "Alpha - AF3,AF7,P7,O1,O2 \n",
        "\n",
        "Beta - AF3,F3,F7,O1,O2\n",
        "\n",
        "Gamma - AF4,FC6,O1,O2"
      ]
    },
    {
      "cell_type": "code",
      "metadata": {
        "id": "5JW8W8ZyEVJ6"
      },
      "source": [
        "#7-32 Data\n",
        "def load_data():\n",
        "  path = '/content/drive/MyDrive/csv/'\n",
        "\n",
        "  all_lo = list()\n",
        "  all_hi = list()\n",
        "  for i in range(1,49):\n",
        "      if i == 5 or i == 24 or i == 42:\n",
        "        continue\n",
        "      \n",
        "      drop_cols = ['Time','FC5','T7','T8','P8','F4','F8'] \n",
        "    \n",
        "      file_path_hi = path+str(i)+'hi'\n",
        "      print(file_path_hi)\n",
        "\n",
        "      df_hi = pd.read_csv(file_path_hi)\n",
        "      df_hi.drop(drop_cols, axis =1 , inplace = True)\n",
        "      df_hi.reset_index(drop = True, inplace = True)\n",
        "      \n",
        "      values_hi = df_hi.values\n",
        "      all_hi.append(values_hi)\n",
        "\n",
        "      \n",
        "      file_path_lo = path+str(i)+'lo'\n",
        "      print(file_path_lo)\n",
        "      \n",
        "      df_lo = pd.read_csv(file_path_lo)\n",
        "      df_lo.drop(drop_cols, axis =1 , inplace = True)\n",
        "      df_lo.reset_index(drop = True, inplace = True)\n",
        "\n",
        "      values_lo = df_lo.values\n",
        "      all_lo.append(values_lo)\n",
        "  return all_hi,all_lo\n",
        "    "
      ],
      "execution_count": null,
      "outputs": []
    },
    {
      "cell_type": "code",
      "metadata": {
        "id": "FPqDsljlZlQj"
      },
      "source": [
        "def len_sequences(all):\n",
        "  len_sequences = []\n",
        "  for one_seq in all:\n",
        "      len_sequences.append(len(one_seq))\n",
        "  print(pd.Series(len_sequences).describe())"
      ],
      "execution_count": null,
      "outputs": []
    },
    {
      "cell_type": "code",
      "metadata": {
        "id": "iWAngePOZlQl"
      },
      "source": [
        "#Padding the sequence with the values in last row to max length\n",
        "def equalize_length(all):\n",
        "  to_pad = 19200\n",
        "  new_seq = []\n",
        "  for one_seq in all:\n",
        "      len_one_seq = len(one_seq)\n",
        "      last_val = one_seq[-1]\n",
        "      n = to_pad - len_one_seq\n",
        "    \n",
        "      to_concat = np.repeat(one_seq[-1], n).reshape(8,n).transpose()\n",
        "      new_one_seq = np.concatenate([one_seq, to_concat])\n",
        "      new_seq.append(new_one_seq)\n",
        "  final_seq = np.stack(new_seq)\n",
        "\n",
        "  #truncate the sequence to length 18000\n",
        "  from tensorflow.python.keras.preprocessing import sequence\n",
        "  seq_len = 18000\n",
        "  eeg_sequence =sequence.pad_sequences(final_seq, maxlen=seq_len, padding='post', dtype='float', truncating='post')\n",
        "  return eeg_sequence"
      ],
      "execution_count": null,
      "outputs": []
    },
    {
      "cell_type": "code",
      "metadata": {
        "id": "ZcdKgyl1G2k0"
      },
      "source": [
        "def scale_data(input):\n",
        "  stdscaler = StandardScaler()\n",
        "  scaled = stdscaler.fit_transform(input)\n",
        "  return scaled"
      ],
      "execution_count": null,
      "outputs": []
    },
    {
      "cell_type": "code",
      "metadata": {
        "id": "FC5OhNWWF61s"
      },
      "source": [
        "def generate_label():\n",
        "  levels = [ 'H',\t 'L',\t 'M',\t 'L',\t 'M',\t 'L',\t 'M',\t 'L',\t'H',\t 'M',\t 'M',\t 'L',\t 'H',\t 'L',\t 'H',\t 'L',\t 'M',\t 'L',\t 'M',\t 'L',\t 'M',\t 'L',\t 'H',\t 'L',\t 'H',\t 'L',\t 'M',\t 'L',\t 'H',\t 'L',\t 'H',\t 'L',\t 'H',\t 'M',\t 'M',\t 'L',\t 'H',\t 'L',\t 'M',\t 'L',\t 'H',\t 'M',\t 'M',\t 'L',\t'M',\t 'L',\t 'H',\t 'L',\t 'M',\t 'L',\t 'H',\t 'L',\t 'M',\t 'L',\t 'H',\t 'L',\t 'M',\t 'L',\t 'H',\t 'L',\t 'M',\t 'L',\t 'H',\t 'L',\t 'M',\t 'L',\t 'H',\t 'L',\t 'H',\t 'L',\t 'M',\t 'L',\t 'H',\t 'L',\t 'M',\t 'L',\t 'M',\t 'L','H',\t 'L',\t 'H',\t 'L',\t 'H',\t 'L',\t 'H',\t 'L',\t 'H',\t 'L',\t 'H',\t 'L']\n",
        "  lvl = []\n",
        "  for i in range(len(levels)):\n",
        "      if i%2 == 0:\n",
        "        if levels[i] == 'M':\n",
        "            lvl.append(0)\n",
        "        if levels[i] == 'H':\n",
        "            lvl.append(1)\n",
        "  print(len(lvl),lvl)\n",
        "  levels_hi = lvl\n",
        "\n",
        "  lvl = []\n",
        "  for i in range(len(levels)):\n",
        "      if i%2 == 0:\n",
        "        continue\n",
        "      else:\n",
        "        if levels[i] == 'L':\n",
        "            lvl.append(0)\n",
        "        if levels[i] == 'M':\n",
        "            lvl.append(1)\n",
        "        \n",
        "  print(len(lvl),lvl)\n",
        "  levels_lo = lvl\n",
        "\n",
        "  return levels_hi,levels_lo"
      ],
      "execution_count": null,
      "outputs": []
    },
    {
      "cell_type": "markdown",
      "metadata": {
        "id": "jeMblgb10gCW"
      },
      "source": [
        "##### Loading Data"
      ]
    },
    {
      "cell_type": "code",
      "metadata": {
        "colab": {
          "base_uri": "https://localhost:8080/"
        },
        "id": "_MNTXtt1TW8B",
        "outputId": "f4381aca-fb64-4bea-e66e-4658fcb95cb6"
      },
      "source": [
        "all_hi,all_lo = load_data()"
      ],
      "execution_count": null,
      "outputs": [
        {
          "output_type": "stream",
          "text": [
            "/content/drive/MyDrive/csv/1hi\n",
            "/content/drive/MyDrive/csv/1lo\n",
            "/content/drive/MyDrive/csv/2hi\n",
            "/content/drive/MyDrive/csv/2lo\n",
            "/content/drive/MyDrive/csv/3hi\n",
            "/content/drive/MyDrive/csv/3lo\n",
            "/content/drive/MyDrive/csv/4hi\n",
            "/content/drive/MyDrive/csv/4lo\n",
            "/content/drive/MyDrive/csv/6hi\n",
            "/content/drive/MyDrive/csv/6lo\n",
            "/content/drive/MyDrive/csv/7hi\n",
            "/content/drive/MyDrive/csv/7lo\n",
            "/content/drive/MyDrive/csv/8hi\n",
            "/content/drive/MyDrive/csv/8lo\n",
            "/content/drive/MyDrive/csv/9hi\n",
            "/content/drive/MyDrive/csv/9lo\n",
            "/content/drive/MyDrive/csv/10hi\n",
            "/content/drive/MyDrive/csv/10lo\n",
            "/content/drive/MyDrive/csv/11hi\n",
            "/content/drive/MyDrive/csv/11lo\n",
            "/content/drive/MyDrive/csv/12hi\n",
            "/content/drive/MyDrive/csv/12lo\n",
            "/content/drive/MyDrive/csv/13hi\n",
            "/content/drive/MyDrive/csv/13lo\n",
            "/content/drive/MyDrive/csv/14hi\n",
            "/content/drive/MyDrive/csv/14lo\n",
            "/content/drive/MyDrive/csv/15hi\n",
            "/content/drive/MyDrive/csv/15lo\n",
            "/content/drive/MyDrive/csv/16hi\n",
            "/content/drive/MyDrive/csv/16lo\n",
            "/content/drive/MyDrive/csv/17hi\n",
            "/content/drive/MyDrive/csv/17lo\n",
            "/content/drive/MyDrive/csv/18hi\n",
            "/content/drive/MyDrive/csv/18lo\n",
            "/content/drive/MyDrive/csv/19hi\n",
            "/content/drive/MyDrive/csv/19lo\n",
            "/content/drive/MyDrive/csv/20hi\n",
            "/content/drive/MyDrive/csv/20lo\n",
            "/content/drive/MyDrive/csv/21hi\n",
            "/content/drive/MyDrive/csv/21lo\n",
            "/content/drive/MyDrive/csv/22hi\n",
            "/content/drive/MyDrive/csv/22lo\n",
            "/content/drive/MyDrive/csv/23hi\n",
            "/content/drive/MyDrive/csv/23lo\n",
            "/content/drive/MyDrive/csv/25hi\n",
            "/content/drive/MyDrive/csv/25lo\n",
            "/content/drive/MyDrive/csv/26hi\n",
            "/content/drive/MyDrive/csv/26lo\n",
            "/content/drive/MyDrive/csv/27hi\n",
            "/content/drive/MyDrive/csv/27lo\n",
            "/content/drive/MyDrive/csv/28hi\n",
            "/content/drive/MyDrive/csv/28lo\n",
            "/content/drive/MyDrive/csv/29hi\n",
            "/content/drive/MyDrive/csv/29lo\n",
            "/content/drive/MyDrive/csv/30hi\n",
            "/content/drive/MyDrive/csv/30lo\n",
            "/content/drive/MyDrive/csv/31hi\n",
            "/content/drive/MyDrive/csv/31lo\n",
            "/content/drive/MyDrive/csv/32hi\n",
            "/content/drive/MyDrive/csv/32lo\n",
            "/content/drive/MyDrive/csv/33hi\n",
            "/content/drive/MyDrive/csv/33lo\n",
            "/content/drive/MyDrive/csv/34hi\n",
            "/content/drive/MyDrive/csv/34lo\n",
            "/content/drive/MyDrive/csv/35hi\n",
            "/content/drive/MyDrive/csv/35lo\n",
            "/content/drive/MyDrive/csv/36hi\n",
            "/content/drive/MyDrive/csv/36lo\n",
            "/content/drive/MyDrive/csv/37hi\n",
            "/content/drive/MyDrive/csv/37lo\n",
            "/content/drive/MyDrive/csv/38hi\n",
            "/content/drive/MyDrive/csv/38lo\n",
            "/content/drive/MyDrive/csv/39hi\n",
            "/content/drive/MyDrive/csv/39lo\n",
            "/content/drive/MyDrive/csv/40hi\n",
            "/content/drive/MyDrive/csv/40lo\n",
            "/content/drive/MyDrive/csv/41hi\n",
            "/content/drive/MyDrive/csv/41lo\n",
            "/content/drive/MyDrive/csv/43hi\n",
            "/content/drive/MyDrive/csv/43lo\n",
            "/content/drive/MyDrive/csv/44hi\n",
            "/content/drive/MyDrive/csv/44lo\n",
            "/content/drive/MyDrive/csv/45hi\n",
            "/content/drive/MyDrive/csv/45lo\n",
            "/content/drive/MyDrive/csv/46hi\n",
            "/content/drive/MyDrive/csv/46lo\n",
            "/content/drive/MyDrive/csv/47hi\n",
            "/content/drive/MyDrive/csv/47lo\n",
            "/content/drive/MyDrive/csv/48hi\n",
            "/content/drive/MyDrive/csv/48lo\n"
          ],
          "name": "stdout"
        }
      ]
    },
    {
      "cell_type": "markdown",
      "metadata": {
        "id": "gH0rDQMBU03H"
      },
      "source": [
        "##### Data sequence description"
      ]
    },
    {
      "cell_type": "code",
      "metadata": {
        "colab": {
          "base_uri": "https://localhost:8080/"
        },
        "id": "0ZatWHjN0YGf",
        "outputId": "0b77d0c6-677e-4d87-d1be-4c1e5d8aea84"
      },
      "source": [
        "print('SIMKAP\\n')\n",
        "len_sequences(all_hi)\n",
        "print('\\nNo Task\\n')\n",
        "len_sequences(all_lo)"
      ],
      "execution_count": null,
      "outputs": [
        {
          "output_type": "stream",
          "text": [
            "SIMKAP\n",
            "\n",
            "count       45.000000\n",
            "mean     17707.533333\n",
            "std       1475.438080\n",
            "min      11935.000000\n",
            "25%      17181.000000\n",
            "50%      18089.000000\n",
            "75%      18724.000000\n",
            "max      19200.000000\n",
            "dtype: float64\n",
            "\n",
            "No Task\n",
            "\n",
            "count       45.000000\n",
            "mean     18489.911111\n",
            "std       1161.692394\n",
            "min      12122.000000\n",
            "25%      18526.000000\n",
            "50%      18820.000000\n",
            "75%      19073.000000\n",
            "max      19200.000000\n",
            "dtype: float64\n"
          ],
          "name": "stdout"
        }
      ]
    },
    {
      "cell_type": "markdown",
      "metadata": {
        "id": "D39jiYTrU6z5"
      },
      "source": [
        "##### Generate equal length sequences"
      ]
    },
    {
      "cell_type": "code",
      "metadata": {
        "id": "V5xe0mt51EBf"
      },
      "source": [
        "eeg_sequence_hi = equalize_length(all_hi)\n",
        "eeg_sequence_lo = equalize_length(all_lo)"
      ],
      "execution_count": null,
      "outputs": []
    },
    {
      "cell_type": "code",
      "metadata": {
        "colab": {
          "base_uri": "https://localhost:8080/"
        },
        "id": "DklndJgs95Lk",
        "outputId": "72b29bcc-6cf8-4ad3-f732-d13b172a592b"
      },
      "source": [
        "print(eeg_sequence_hi.shape,eeg_sequence_lo.shape)"
      ],
      "execution_count": null,
      "outputs": [
        {
          "output_type": "stream",
          "text": [
            "(45, 18000, 8) (45, 18000, 8)\n"
          ],
          "name": "stdout"
        }
      ]
    },
    {
      "cell_type": "markdown",
      "metadata": {
        "id": "Bz_-Z-gEVBxm"
      },
      "source": [
        "##### Scaling data"
      ]
    },
    {
      "cell_type": "code",
      "metadata": {
        "id": "Xg_ltcu7G72x"
      },
      "source": [
        "eeq_sequence_hi = scale_data(eeg_sequence_hi.reshape(45,18000*8))\n",
        "eeq_sequence_lo = scale_data(eeg_sequence_lo.reshape(45,18000*8))"
      ],
      "execution_count": null,
      "outputs": []
    },
    {
      "cell_type": "markdown",
      "metadata": {
        "id": "XCScZ7s4VYHX"
      },
      "source": [
        "##### Output labels"
      ]
    },
    {
      "cell_type": "code",
      "metadata": {
        "colab": {
          "base_uri": "https://localhost:8080/"
        },
        "id": "LHLFhD_dT19o",
        "outputId": "8c4cf6c6-98dc-499d-bb02-e9d26636d15e"
      },
      "source": [
        "levels_hi,levels_lo = generate_label()"
      ],
      "execution_count": null,
      "outputs": [
        {
          "output_type": "stream",
          "text": [
            "45 [1, 0, 0, 0, 1, 0, 1, 1, 0, 0, 0, 1, 1, 0, 1, 1, 1, 0, 1, 0, 1, 0, 0, 1, 0, 1, 0, 1, 0, 1, 0, 1, 0, 1, 1, 0, 1, 0, 0, 1, 1, 1, 1, 1, 1]\n",
            "45 [0, 0, 0, 0, 1, 0, 0, 0, 0, 0, 0, 0, 0, 0, 0, 0, 1, 0, 0, 0, 1, 0, 0, 0, 0, 0, 0, 0, 0, 0, 0, 0, 0, 0, 0, 0, 0, 0, 0, 0, 0, 0, 0, 0, 0]\n"
          ],
          "name": "stdout"
        }
      ]
    },
    {
      "cell_type": "markdown",
      "metadata": {
        "id": "yNs1_xiS0yrt"
      },
      "source": [
        "##### Split train and test data"
      ]
    },
    {
      "cell_type": "code",
      "metadata": {
        "id": "IEO_pmjZHI6u"
      },
      "source": [
        "from sklearn.model_selection import train_test_split\n",
        "X_train_hi, X_test_hi, y_train_hi, y_test_hi = train_test_split(eeg_sequence_hi, levels_hi, test_size=0.2, random_state=50 , stratify = levels_hi)\n",
        "X_train_lo, X_test_lo, y_train_lo, y_test_lo = train_test_split(eeg_sequence_lo, levels_lo, test_size=0.2, random_state=50 , stratify = levels_lo)\n"
      ],
      "execution_count": null,
      "outputs": []
    },
    {
      "cell_type": "code",
      "metadata": {
        "id": "jYBgNUUsqr4F"
      },
      "source": [
        "X_train_hi = np.array(X_train_hi)\n",
        "X_test_hi = np.array(X_test_hi)\n",
        "\n",
        "y_train_hi = np.array(y_train_hi)\n",
        "y_test_hi = np.array(y_test_hi)\n",
        "\n",
        "X_train_lo = np.array(X_train_lo)\n",
        "X_test_lo = np.array(X_test_lo)\n",
        "\n",
        "\n",
        "y_train_lo = np.array(y_train_lo)\n",
        "y_test_lo = np.array(y_test_lo)\n",
        "\n"
      ],
      "execution_count": null,
      "outputs": []
    },
    {
      "cell_type": "code",
      "metadata": {
        "id": "arxDAFN2q3b0",
        "colab": {
          "base_uri": "https://localhost:8080/",
          "height": 247
        },
        "outputId": "a57deb6c-df70-455c-85ce-4c7f0d70c797"
      },
      "source": [
        "nsamples,nx,ny = X_train_hi.shape\n",
        "X_train_hi = X_train_hi.reshape(nsamples,nx*ny)\n",
        "X_test_hi = X_test_hi.reshape(len(levels_hi)-nsamples,nx*ny)\n",
        "\n",
        "nsamples,nx,ny = X_train_lo.shape\n",
        "X_train_lo = X_train_lo.reshape(nsamples,nx*ny)\n",
        "X_test_lo = X_test_lo.reshape(len(levels_lo)-nsamples,nx*ny)"
      ],
      "execution_count": null,
      "outputs": [
        {
          "output_type": "error",
          "ename": "ValueError",
          "evalue": "ignored",
          "traceback": [
            "\u001b[0;31m---------------------------------------------------------------------------\u001b[0m",
            "\u001b[0;31mValueError\u001b[0m                                Traceback (most recent call last)",
            "\u001b[0;32m<ipython-input-25-7718fc3933ce>\u001b[0m in \u001b[0;36m<module>\u001b[0;34m()\u001b[0m\n\u001b[0;32m----> 1\u001b[0;31m \u001b[0mnsamples\u001b[0m\u001b[0;34m,\u001b[0m\u001b[0mnx\u001b[0m\u001b[0;34m,\u001b[0m\u001b[0mny\u001b[0m \u001b[0;34m=\u001b[0m \u001b[0mX_train_hi\u001b[0m\u001b[0;34m.\u001b[0m\u001b[0mshape\u001b[0m\u001b[0;34m\u001b[0m\u001b[0;34m\u001b[0m\u001b[0m\n\u001b[0m\u001b[1;32m      2\u001b[0m \u001b[0mX_train_hi\u001b[0m \u001b[0;34m=\u001b[0m \u001b[0mX_train_hi\u001b[0m\u001b[0;34m.\u001b[0m\u001b[0mreshape\u001b[0m\u001b[0;34m(\u001b[0m\u001b[0mnsamples\u001b[0m\u001b[0;34m,\u001b[0m\u001b[0mnx\u001b[0m\u001b[0;34m*\u001b[0m\u001b[0mny\u001b[0m\u001b[0;34m)\u001b[0m\u001b[0;34m\u001b[0m\u001b[0;34m\u001b[0m\u001b[0m\n\u001b[1;32m      3\u001b[0m \u001b[0mX_test_hi\u001b[0m \u001b[0;34m=\u001b[0m \u001b[0mX_test_hi\u001b[0m\u001b[0;34m.\u001b[0m\u001b[0mreshape\u001b[0m\u001b[0;34m(\u001b[0m\u001b[0mlen\u001b[0m\u001b[0;34m(\u001b[0m\u001b[0mlevels_hi\u001b[0m\u001b[0;34m)\u001b[0m\u001b[0;34m-\u001b[0m\u001b[0mnsamples\u001b[0m\u001b[0;34m,\u001b[0m\u001b[0mnx\u001b[0m\u001b[0;34m*\u001b[0m\u001b[0mny\u001b[0m\u001b[0;34m)\u001b[0m\u001b[0;34m\u001b[0m\u001b[0;34m\u001b[0m\u001b[0m\n\u001b[1;32m      4\u001b[0m \u001b[0;34m\u001b[0m\u001b[0m\n\u001b[1;32m      5\u001b[0m \u001b[0mnsamples\u001b[0m\u001b[0;34m,\u001b[0m\u001b[0mnx\u001b[0m\u001b[0;34m,\u001b[0m\u001b[0mny\u001b[0m \u001b[0;34m=\u001b[0m \u001b[0mX_train_lo\u001b[0m\u001b[0;34m.\u001b[0m\u001b[0mshape\u001b[0m\u001b[0;34m\u001b[0m\u001b[0;34m\u001b[0m\u001b[0m\n",
            "\u001b[0;31mValueError\u001b[0m: not enough values to unpack (expected 3, got 2)"
          ]
        }
      ]
    },
    {
      "cell_type": "markdown",
      "metadata": {
        "id": "1Gm4Hvcf05Ps"
      },
      "source": [
        "##### SMOTE oversampling"
      ]
    },
    {
      "cell_type": "code",
      "metadata": {
        "id": "n1SziAblz04G"
      },
      "source": [
        "from collections import Counter\n",
        "def count_label(y_train):\n",
        "  counter = Counter(y_train)\n",
        "  for k,v in counter.items():\n",
        "      per = v / len(y_train) * 100\n",
        "      print('Class=%d, Count=%d, Percentage=%.3f%%' % (k, v, per))\n",
        "  plt.bar(counter.keys(),counter.values())"
      ],
      "execution_count": null,
      "outputs": []
    },
    {
      "cell_type": "code",
      "metadata": {
        "colab": {
          "base_uri": "https://localhost:8080/",
          "height": 302
        },
        "id": "CrKJak1Y2jVr",
        "outputId": "cae3775a-580e-459a-9276-b6222b9ac9ff"
      },
      "source": [
        "count_label(y_train_hi)\n"
      ],
      "execution_count": null,
      "outputs": [
        {
          "output_type": "stream",
          "text": [
            "Class=0, Count=16, Percentage=44.444%\n",
            "Class=1, Count=20, Percentage=55.556%\n"
          ],
          "name": "stdout"
        },
        {
          "output_type": "display_data",
          "data": {
            "image/png": "[encoded data removed]",
            "text/plain": [
              "<Figure size 432x288 with 1 Axes>"
            ]
          },
          "metadata": {
            "tags": [],
            "needs_background": "light"
          }
        }
      ]
    },
    {
      "cell_type": "code",
      "metadata": {
        "colab": {
          "base_uri": "https://localhost:8080/",
          "height": 302
        },
        "id": "3ERosTzb3voJ",
        "outputId": "644ff0d7-203d-4eb3-f69e-93c496a23353"
      },
      "source": [
        "count_label(y_train_lo)"
      ],
      "execution_count": null,
      "outputs": [
        {
          "output_type": "stream",
          "text": [
            "Class=0, Count=34, Percentage=94.444%\n",
            "Class=1, Count=2, Percentage=5.556%\n"
          ],
          "name": "stdout"
        },
        {
          "output_type": "display_data",
          "data": {
            "image/png": "[encoded data removed]",
            "text/plain": [
              "<Figure size 432x288 with 1 Axes>"
            ]
          },
          "metadata": {
            "tags": [],
            "needs_background": "light"
          }
        }
      ]
    },
    {
      "cell_type": "code",
      "metadata": {
        "colab": {
          "base_uri": "https://localhost:8080/"
        },
        "id": "A3eNwuBaK_dV",
        "outputId": "b6accd6d-f0a8-47ab-f947-a0cf98f17337"
      },
      "source": [
        "from imblearn.over_sampling import SMOTE\n",
        "#strategy = {0:84,1:52,2:56}\n",
        "strategy = {0:32,1:40} \n",
        "smt = SMOTE(strategy)\n",
        "X_train_hi_SMOTE, y_train_hi_SMOTE = smt.fit_sample(X_train_hi, y_train_hi)\n"
      ],
      "execution_count": null,
      "outputs": [
        {
          "output_type": "stream",
          "text": [
            "/usr/local/lib/python3.7/dist-packages/imblearn/utils/_validation.py:257: UserWarning: After over-sampling, the number of samples (32) in class 0 will be larger than the number of samples in the majority class (class #1 -> 20)\n",
            "  n_samples_majority))\n",
            "/usr/local/lib/python3.7/dist-packages/imblearn/utils/_validation.py:257: UserWarning: After over-sampling, the number of samples (40) in class 1 will be larger than the number of samples in the majority class (class #1 -> 20)\n",
            "  n_samples_majority))\n",
            "/usr/local/lib/python3.7/dist-packages/sklearn/utils/deprecation.py:87: FutureWarning: Function safe_indexing is deprecated; safe_indexing is deprecated in version 0.22 and will be removed in version 0.24.\n",
            "  warnings.warn(msg, category=FutureWarning)\n",
            "/usr/local/lib/python3.7/dist-packages/sklearn/utils/deprecation.py:87: FutureWarning: Function safe_indexing is deprecated; safe_indexing is deprecated in version 0.22 and will be removed in version 0.24.\n",
            "  warnings.warn(msg, category=FutureWarning)\n"
          ],
          "name": "stderr"
        }
      ]
    },
    {
      "cell_type": "code",
      "metadata": {
        "colab": {
          "base_uri": "https://localhost:8080/"
        },
        "id": "8tLybh9x4XjJ",
        "outputId": "eb6141e1-2da4-4b44-94cf-310589cc0a7f"
      },
      "source": [
        "X_train_lo.shape"
      ],
      "execution_count": null,
      "outputs": [
        {
          "output_type": "execute_result",
          "data": {
            "text/plain": [
              "(36, 144000)"
            ]
          },
          "metadata": {
            "tags": []
          },
          "execution_count": 28
        }
      ]
    },
    {
      "cell_type": "code",
      "metadata": {
        "colab": {
          "base_uri": "https://localhost:8080/"
        },
        "id": "GZe5kLnu3yjR",
        "outputId": "fbf70464-89a8-43f9-ed1c-4bbe84e150e9"
      },
      "source": [
        "from imblearn.over_sampling import SMOTE\n",
        "strategy = {0:34,1:34} \n",
        "smt = SMOTE(strategy,k_neighbors = 1)\n",
        "X_train_lo_SMOTE, y_train_lo_SMOTE = smt.fit_sample(X_train_lo, y_train_lo)\n"
      ],
      "execution_count": null,
      "outputs": [
        {
          "output_type": "stream",
          "text": [
            "/usr/local/lib/python3.7/dist-packages/sklearn/utils/deprecation.py:87: FutureWarning: Function safe_indexing is deprecated; safe_indexing is deprecated in version 0.22 and will be removed in version 0.24.\n",
            "  warnings.warn(msg, category=FutureWarning)\n"
          ],
          "name": "stderr"
        }
      ]
    },
    {
      "cell_type": "markdown",
      "metadata": {
        "id": "pzSKXYi71CSH"
      },
      "source": [
        "##### Reshape input shape"
      ]
    },
    {
      "cell_type": "code",
      "metadata": {
        "id": "Kr8vLIodHwsz"
      },
      "source": [
        "nsamples,nxny = X_train_hi.shape\n",
        "#nsamples,nx,ny = X_train_hi.shape\n",
        "X_train_hi = X_train_hi.reshape(nsamples,1,nx*ny)\n",
        "X_test_hi = X_test_hi.reshape(len(levels_hi)-nsamples,1,nx*ny)"
      ],
      "execution_count": null,
      "outputs": []
    },
    {
      "cell_type": "code",
      "metadata": {
        "id": "rqgl11w83j3L"
      },
      "source": [
        "nsamples,nxy = X_train_lo.shape\n",
        "#nsamples,nx,ny = X_train_lo.shape\n",
        "X_train_lo = X_train_lo.reshape(nsamples,1,nxy)\n",
        "X_test_lo = X_test_lo.reshape(len(levels_lo)-nsamples,1,nxy)"
      ],
      "execution_count": null,
      "outputs": []
    },
    {
      "cell_type": "code",
      "metadata": {
        "id": "nQ7a7uQiLXx_"
      },
      "source": [
        "nsamples, nxny = X_train_hi_SMOTE.shape\n",
        "X_train_hi_SMOTE = X_train_hi_SMOTE.reshape(nsamples,1,nxny)\n",
        "\n",
        "nsamples, nxny = X_train_lo_SMOTE.shape\n",
        "X_train_lo_SMOTE = X_train_lo_SMOTE.reshape(nsamples,1,nxny)\n"
      ],
      "execution_count": null,
      "outputs": []
    },
    {
      "cell_type": "markdown",
      "metadata": {
        "id": "b-MLVGNtV2P4"
      },
      "source": [
        "##### Display input shape"
      ]
    },
    {
      "cell_type": "code",
      "metadata": {
        "colab": {
          "base_uri": "https://localhost:8080/"
        },
        "id": "UzzhW9Sn2VZp",
        "outputId": "87c52fc1-2ab1-4e1b-f894-28a14f1050d9"
      },
      "source": [
        "print(X_train_hi.shape,X_test_hi.shape)\n",
        "print(X_train_lo.shape,X_test_lo.shape)"
      ],
      "execution_count": null,
      "outputs": [
        {
          "output_type": "stream",
          "text": [
            "(36, 1, 144000) (9, 1, 144000)\n",
            "(36, 1, 144000) (9, 1, 144000)\n"
          ],
          "name": "stdout"
        }
      ]
    },
    {
      "cell_type": "code",
      "metadata": {
        "colab": {
          "base_uri": "https://localhost:8080/"
        },
        "id": "00kB3Bf4IBcO",
        "outputId": "a0687c03-bc45-49a0-b909-eef602cefedf"
      },
      "source": [
        "X_train_hi_SMOTE.shape\n",
        "X_train_lo_SMOTE.shape"
      ],
      "execution_count": null,
      "outputs": [
        {
          "output_type": "execute_result",
          "data": {
            "text/plain": [
              "(68, 1, 144000)"
            ]
          },
          "metadata": {
            "tags": []
          },
          "execution_count": 38
        }
      ]
    },
    {
      "cell_type": "markdown",
      "metadata": {
        "id": "LPVIJyV8VmaU"
      },
      "source": [
        "##### Save data as numpy array"
      ]
    },
    {
      "cell_type": "code",
      "metadata": {
        "id": "nklE_j-C91Gk"
      },
      "source": [
        "np.save('/content/drive/MyDrive/prepared_data/X_train_hi',X_train_hi)\n",
        "np.save('/content/drive/MyDrive/prepared_data/X_test_hi',X_test_hi)\n",
        "np.save('/content/drive/MyDrive/prepared_data/y_train_hi',y_train_hi)\n",
        "np.save('/content/drive/MyDrive/prepared_data/y_test_hi',y_test_hi)\n",
        "\n",
        "np.save('/content/drive/MyDrive/prepared_data/X_train_hi_SMOTE',X_train_hi_SMOTE)\n",
        "np.save('/content/drive/MyDrive/prepared_data/y_train_hi_SMOTE',y_train_hi_SMOTE)"
      ],
      "execution_count": null,
      "outputs": []
    },
    {
      "cell_type": "code",
      "metadata": {
        "id": "XYmCwypD5RcS"
      },
      "source": [
        "np.save('/content/drive/MyDrive/prepared_data/X_train_lo',X_train_lo)\n",
        "np.save('/content/drive/MyDrive/prepared_data/X_test_lo',X_test_lo)\n",
        "np.save('/content/drive/MyDrive/prepared_data/y_train_lo',y_train_lo)\n",
        "np.save('/content/drive/MyDrive/prepared_data/y_test_lo',y_test_lo)\n",
        "\n",
        "np.save('/content/drive/MyDrive/prepared_data/X_train_lo_SMOTE',X_train_lo_SMOTE)\n",
        "np.save('/content/drive/MyDrive/prepared_data/y_train_lo_SMOTE',y_train_lo_SMOTE)"
      ],
      "execution_count": null,
      "outputs": []
    }
  ]
}